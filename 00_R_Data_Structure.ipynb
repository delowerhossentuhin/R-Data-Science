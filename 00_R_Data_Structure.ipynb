{
  "nbformat": 4,
  "nbformat_minor": 0,
  "metadata": {
    "colab": {
      "provenance": [],
      "authorship_tag": "ABX9TyPZRj4M+TUTap6+RvohV5sL",
      "include_colab_link": true
    },
    "kernelspec": {
      "name": "ir",
      "display_name": "R"
    },
    "language_info": {
      "name": "R"
    }
  },
  "cells": [
    {
      "cell_type": "markdown",
      "metadata": {
        "id": "view-in-github",
        "colab_type": "text"
      },
      "source": [
        "<a href=\"https://colab.research.google.com/github/delowerhossentuhin/R-Data-Science/blob/main/00_R_Data_Structure.ipynb\" target=\"_parent\"><img src=\"https://colab.research.google.com/assets/colab-badge.svg\" alt=\"Open In Colab\"/></a>"
      ]
    },
    {
      "cell_type": "markdown",
      "source": [
        "**Change Your Runtype python to R**"
      ],
      "metadata": {
        "id": "gOn8qp-kNYpv"
      }
    },
    {
      "cell_type": "markdown",
      "source": [
        "# **Vector**"
      ],
      "metadata": {
        "id": "MhRt9leYLb7W"
      }
    },
    {
      "cell_type": "code",
      "source": [
        "num_vec<-c(1,2,3,4,5,6,7)\n",
        "print(num_vec)"
      ],
      "metadata": {
        "colab": {
          "base_uri": "https://localhost:8080/"
        },
        "id": "p-U3s3bLLZhw",
        "outputId": "bb698a4e-02da-4c1c-8f5e-23790c8174fa"
      },
      "execution_count": 1,
      "outputs": [
        {
          "output_type": "stream",
          "name": "stdout",
          "text": [
            "[1] 1 2 3 4 5 6 7\n"
          ]
        }
      ]
    },
    {
      "cell_type": "code",
      "source": [
        "str_vec<-c(\"Frodo\",\"Sam\",\"Mary\",\"Pippins\")\n",
        "print(str_vec)"
      ],
      "metadata": {
        "colab": {
          "base_uri": "https://localhost:8080/"
        },
        "id": "vuQMLYp_Llfb",
        "outputId": "c935f804-f50e-4d21-b885-cb38ba8a01de"
      },
      "execution_count": 2,
      "outputs": [
        {
          "output_type": "stream",
          "name": "stdout",
          "text": [
            "[1] \"Frodo\"   \"Sam\"     \"Mary\"    \"Pippins\"\n"
          ]
        }
      ]
    },
    {
      "cell_type": "code",
      "source": [
        "log_vec<-c(TRUE,FALSE,TRUE)\n",
        "print(log_vec)"
      ],
      "metadata": {
        "colab": {
          "base_uri": "https://localhost:8080/"
        },
        "id": "vVhh2D-tMyqq",
        "outputId": "3344ba01-c771-4ccb-f1c6-44d7bbaf8fb3"
      },
      "execution_count": 3,
      "outputs": [
        {
          "output_type": "stream",
          "name": "stdout",
          "text": [
            "[1]  TRUE FALSE  TRUE\n"
          ]
        }
      ]
    },
    {
      "cell_type": "code",
      "source": [
        "log_vec2<-c(TRUE,FALSE,1,0)\n",
        "print(log_vec2)"
      ],
      "metadata": {
        "colab": {
          "base_uri": "https://localhost:8080/"
        },
        "id": "h2f1hCDjNBfg",
        "outputId": "cc205f53-61e0-467e-c007-b8a2d8a769f4"
      },
      "execution_count": 4,
      "outputs": [
        {
          "output_type": "stream",
          "name": "stdout",
          "text": [
            "[1] 1 0 1 0\n"
          ]
        }
      ]
    },
    {
      "cell_type": "code",
      "source": [
        "mix_vec = c(\"Hello\",0,TRUE,55.5)\n",
        "print(mix_vec)"
      ],
      "metadata": {
        "colab": {
          "base_uri": "https://localhost:8080/"
        },
        "id": "QkpNI8UvNKgO",
        "outputId": "6d96bdc4-c6b6-4c43-9ea1-f3d58287b0f6"
      },
      "execution_count": 5,
      "outputs": [
        {
          "output_type": "stream",
          "name": "stdout",
          "text": [
            "[1] \"Hello\" \"0\"     \"TRUE\"  \"55.5\" \n"
          ]
        }
      ]
    },
    {
      "cell_type": "code",
      "source": [
        "print(num_vec[1]) # R language started index is 1 not 0\n",
        "print(str_vec[3])"
      ],
      "metadata": {
        "colab": {
          "base_uri": "https://localhost:8080/"
        },
        "id": "obkIzf3mL2xF",
        "outputId": "2f990fad-b257-4dc7-cbdd-078bd264bf95"
      },
      "execution_count": 6,
      "outputs": [
        {
          "output_type": "stream",
          "name": "stdout",
          "text": [
            "[1] 1\n",
            "[1] \"Mary\"\n"
          ]
        }
      ]
    },
    {
      "cell_type": "code",
      "source": [
        "num_vec1 = c(1,2,3,4,5,6,7)\n",
        "num_vec2 =c(2,3,4,5,6,7,8,10)"
      ],
      "metadata": {
        "id": "lweu-683OUgy"
      },
      "execution_count": 7,
      "outputs": []
    },
    {
      "cell_type": "code",
      "source": [
        "# Summation\n",
        "sum_vec=num_vec1+num_vec2\n",
        "print(sum_vec)\n",
        "# num_vec2 length > num_vec1 length\n",
        "# num_vec2's 10 (last index) will be added with num_vec1's first index"
      ],
      "metadata": {
        "colab": {
          "base_uri": "https://localhost:8080/"
        },
        "id": "nMHteFtGL_2x",
        "outputId": "8689078f-4470-4b8b-e7de-bd8ea46b2ef1"
      },
      "execution_count": 8,
      "outputs": [
        {
          "output_type": "stream",
          "name": "stderr",
          "text": [
            "Warning message in num_vec1 + num_vec2:\n",
            "“longer object length is not a multiple of shorter object length”\n"
          ]
        },
        {
          "output_type": "stream",
          "name": "stdout",
          "text": [
            "[1]  3  5  7  9 11 13 15 11\n"
          ]
        }
      ]
    },
    {
      "cell_type": "code",
      "source": [
        "# Subtraction\n",
        "sub_vec = num_vec1 - num_vec2\n",
        "print(sub_vec)"
      ],
      "metadata": {
        "colab": {
          "base_uri": "https://localhost:8080/"
        },
        "id": "hz2YAFeqNvds",
        "outputId": "336ee00c-2f13-456d-d66b-6bfe91dcfa9d"
      },
      "execution_count": 9,
      "outputs": [
        {
          "output_type": "stream",
          "name": "stderr",
          "text": [
            "Warning message in num_vec1 - num_vec2:\n",
            "“longer object length is not a multiple of shorter object length”\n"
          ]
        },
        {
          "output_type": "stream",
          "name": "stdout",
          "text": [
            "[1] -1 -1 -1 -1 -1 -1 -1 -9\n"
          ]
        }
      ]
    },
    {
      "cell_type": "code",
      "source": [
        "# Multiplication\n",
        "mul_vec = sum_vec * sub_vec # Element wise multiplication\n",
        "print(mul_vec)"
      ],
      "metadata": {
        "colab": {
          "base_uri": "https://localhost:8080/"
        },
        "id": "ooSjRTesOQfi",
        "outputId": "3bd780a9-46b1-4b13-e1e8-da165550c282"
      },
      "execution_count": 10,
      "outputs": [
        {
          "output_type": "stream",
          "name": "stdout",
          "text": [
            "[1]  -3  -5  -7  -9 -11 -13 -15 -99\n"
          ]
        }
      ]
    },
    {
      "cell_type": "code",
      "source": [
        "# Division\n",
        "div_vec = sub_vec / mul_vec\n",
        "print(div_vec)"
      ],
      "metadata": {
        "colab": {
          "base_uri": "https://localhost:8080/"
        },
        "id": "ejzTmcE-OlL3",
        "outputId": "2d6f8ac9-96d2-49dd-c3ef-c06bfea938e4"
      },
      "execution_count": 11,
      "outputs": [
        {
          "output_type": "stream",
          "name": "stdout",
          "text": [
            "[1] 0.33333333 0.20000000 0.14285714 0.11111111 0.09090909 0.07692308 0.06666667\n",
            "[8] 0.09090909\n"
          ]
        }
      ]
    },
    {
      "cell_type": "code",
      "source": [
        "# appending new element in existing vector\n",
        "sub_vec <- c(sub_vec,100)\n",
        "print(sub_vec)"
      ],
      "metadata": {
        "colab": {
          "base_uri": "https://localhost:8080/"
        },
        "id": "i9GRuFxCOwYs",
        "outputId": "eb57410b-1d2b-4765-b1be-37372ba80e88"
      },
      "execution_count": 12,
      "outputs": [
        {
          "output_type": "stream",
          "name": "stdout",
          "text": [
            "[1]  -1  -1  -1  -1  -1  -1  -1  -9 100\n"
          ]
        }
      ]
    },
    {
      "cell_type": "code",
      "source": [
        "sub_vec[3]=100\n",
        "print(sub_vec)"
      ],
      "metadata": {
        "colab": {
          "base_uri": "https://localhost:8080/"
        },
        "id": "HAcD3TeXPKkt",
        "outputId": "56a32bbb-3ab6-482b-b690-6dfaa4e2d264"
      },
      "execution_count": 13,
      "outputs": [
        {
          "output_type": "stream",
          "name": "stdout",
          "text": [
            "[1]  -1  -1 100  -1  -1  -1  -1  -9 100\n"
          ]
        }
      ]
    },
    {
      "cell_type": "code",
      "source": [
        "sub_vec <- c(num_vec1[num_vec1 %%2==0], sub_vec)\n",
        "print(sub_vec)"
      ],
      "metadata": {
        "colab": {
          "base_uri": "https://localhost:8080/"
        },
        "id": "brjOTAs5PxPK",
        "outputId": "eaebbae4-b32e-44e4-db40-da5e71f647bd"
      },
      "execution_count": 14,
      "outputs": [
        {
          "output_type": "stream",
          "name": "stdout",
          "text": [
            " [1]   2   4   6  -1  -1 100  -1  -1  -1  -1  -9 100\n"
          ]
        }
      ]
    },
    {
      "cell_type": "code",
      "source": [
        "# Vector Function\n",
        "print(length(sub_vec))\n",
        "print(mean(sub_vec))\n",
        "print(sum(sub_vec))\n",
        "sub_vec <- sort(sub_vec,decreasing = TRUE)\n",
        "print(sub_vec)"
      ],
      "metadata": {
        "colab": {
          "base_uri": "https://localhost:8080/"
        },
        "id": "Svp4YMXSQKSA",
        "outputId": "6f674e85-6a3f-4209-e761-a2415300ebaa"
      },
      "execution_count": 15,
      "outputs": [
        {
          "output_type": "stream",
          "name": "stdout",
          "text": [
            "[1] 12\n",
            "[1] 16.41667\n",
            "[1] 197\n",
            " [1] 100 100   6   4   2  -1  -1  -1  -1  -1  -1  -9\n"
          ]
        }
      ]
    },
    {
      "cell_type": "code",
      "source": [
        "# Sequence and Repetition in Vectors\n",
        "seq_vec = seq(3,100,10)\n",
        "print(seq_vec)\n",
        "rep_vec <- rep(seq(0,10,2),time=3)\n",
        "print(rep_vec)"
      ],
      "metadata": {
        "colab": {
          "base_uri": "https://localhost:8080/"
        },
        "id": "Y1phLTVIRs74",
        "outputId": "4afd2107-7434-4804-f680-aef9da1d051c"
      },
      "execution_count": 16,
      "outputs": [
        {
          "output_type": "stream",
          "name": "stdout",
          "text": [
            " [1]  3 13 23 33 43 53 63 73 83 93\n",
            " [1]  0  2  4  6  8 10  0  2  4  6  8 10  0  2  4  6  8 10\n"
          ]
        }
      ]
    },
    {
      "cell_type": "markdown",
      "source": [
        "# **Matrix**"
      ],
      "metadata": {
        "id": "K3so1iwxSsih"
      }
    },
    {
      "cell_type": "code",
      "source": [
        "# Creating a 3x3 matrix (filled column-wise by default)\n",
        "mat1=matrix(1:9, nrow=3,ncol=3)\n",
        "print(mat1)\n",
        "cat(\"\\n\\n\")\n",
        "mat2=matrix(1:12,nrow=4,ncol=3, byrow = TRUE) # filled row wise\n",
        "print(mat2)"
      ],
      "metadata": {
        "colab": {
          "base_uri": "https://localhost:8080/"
        },
        "id": "QIEtDtZPSERo",
        "outputId": "5cfb77eb-623b-4159-d251-34c7b8763503"
      },
      "execution_count": 17,
      "outputs": [
        {
          "output_type": "stream",
          "name": "stdout",
          "text": [
            "     [,1] [,2] [,3]\n",
            "[1,]    1    4    7\n",
            "[2,]    2    5    8\n",
            "[3,]    3    6    9\n",
            "\n",
            "\n",
            "     [,1] [,2] [,3]\n",
            "[1,]    1    2    3\n",
            "[2,]    4    5    6\n",
            "[3,]    7    8    9\n",
            "[4,]   10   11   12\n"
          ]
        }
      ]
    },
    {
      "cell_type": "code",
      "source": [
        "# Naming Rows and Columns\n",
        "rownames(mat2) = c(\"A\",\"B\",\"C\",\"D\") # length must be same as the number of rows\n",
        "print(mat2)\n",
        "cat(\"\\n\\n\")\n",
        "colnames(mat2) = c(\"X\",\"Y\",\"Z\")\n",
        "print(mat2)"
      ],
      "metadata": {
        "colab": {
          "base_uri": "https://localhost:8080/"
        },
        "id": "AcaAYb6FS2DK",
        "outputId": "60cb7170-feea-47b2-c17f-29718e59a848"
      },
      "execution_count": 18,
      "outputs": [
        {
          "output_type": "stream",
          "name": "stdout",
          "text": [
            "  [,1] [,2] [,3]\n",
            "A    1    2    3\n",
            "B    4    5    6\n",
            "C    7    8    9\n",
            "D   10   11   12\n",
            "\n",
            "\n",
            "   X  Y  Z\n",
            "A  1  2  3\n",
            "B  4  5  6\n",
            "C  7  8  9\n",
            "D 10 11 12\n"
          ]
        }
      ]
    },
    {
      "cell_type": "code",
      "source": [
        "# Accessing Elements in a Matrix\n",
        "print(mat2[2,3])\n",
        "print(mat2[,2]) # 2nd entire column\n",
        "print(mat2[3,]) # 3 entire row"
      ],
      "metadata": {
        "colab": {
          "base_uri": "https://localhost:8080/"
        },
        "id": "TG6pFhtjTon7",
        "outputId": "35c335d9-3cfe-4b0a-9c01-1fc1b7900f49"
      },
      "execution_count": 19,
      "outputs": [
        {
          "output_type": "stream",
          "name": "stdout",
          "text": [
            "[1] 6\n",
            " A  B  C  D \n",
            " 2  5  8 11 \n",
            "X Y Z \n",
            "7 8 9 \n"
          ]
        }
      ]
    },
    {
      "cell_type": "code",
      "source": [
        "# Matrix Arithmetic\n",
        "mat1 <- matrix(1:4, nrow = 2)\n",
        "mat2 <- matrix(5:8, nrow = 2)\n",
        "\n",
        "# Matrix addition\n",
        "sum_mat <- mat1 + mat2\n",
        "print(sum_mat)\n",
        "\n",
        "# Matrix multiplication (element-wise)\n",
        "prod_mat <- mat1 * mat2\n",
        "print(prod_mat)\n",
        "\n",
        "dot_prod = mat1 %*% mat2\n",
        "print(dot_prod)"
      ],
      "metadata": {
        "colab": {
          "base_uri": "https://localhost:8080/"
        },
        "id": "umH7Nwj7Uj_i",
        "outputId": "3b6c4f4a-e3a7-4e52-a159-74c38ccec9e7"
      },
      "execution_count": 20,
      "outputs": [
        {
          "output_type": "stream",
          "name": "stdout",
          "text": [
            "     [,1] [,2]\n",
            "[1,]    6   10\n",
            "[2,]    8   12\n",
            "     [,1] [,2]\n",
            "[1,]    5   21\n",
            "[2,]   12   32\n",
            "     [,1] [,2]\n",
            "[1,]   23   31\n",
            "[2,]   34   46\n"
          ]
        }
      ]
    },
    {
      "cell_type": "code",
      "source": [
        "#Transpose and Inverse of a Matrix\n",
        "# Transpose of a matrix\n",
        "t_mat <- t(mat1)\n",
        "print(t_mat)\n",
        "\n",
        "# Inverse of a matrix (for square matrices)\n",
        "square_mat <- matrix(c(2, 3, 1, 4), nrow = 2)\n",
        "print(square_mat)\n",
        "inv_mat <- solve(square_mat)\n",
        "print(inv_mat)"
      ],
      "metadata": {
        "colab": {
          "base_uri": "https://localhost:8080/"
        },
        "id": "XTGaJOnFU_VS",
        "outputId": "3c01e537-bfbe-40a8-a86e-06a01afd99b7"
      },
      "execution_count": 21,
      "outputs": [
        {
          "output_type": "stream",
          "name": "stdout",
          "text": [
            "     [,1] [,2]\n",
            "[1,]    1    2\n",
            "[2,]    3    4\n",
            "     [,1] [,2]\n",
            "[1,]    2    1\n",
            "[2,]    3    4\n",
            "     [,1] [,2]\n",
            "[1,]  0.8 -0.2\n",
            "[2,] -0.6  0.4\n"
          ]
        }
      ]
    },
    {
      "cell_type": "code",
      "source": [],
      "metadata": {
        "id": "kF9krB_DVUJ6"
      },
      "execution_count": 22,
      "outputs": []
    }
  ]
}