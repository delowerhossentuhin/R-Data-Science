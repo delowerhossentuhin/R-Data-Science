{
  "nbformat": 4,
  "nbformat_minor": 0,
  "metadata": {
    "colab": {
      "provenance": [],
      "authorship_tag": "ABX9TyPJKB6E1lLLqOJkmoi44397",
      "include_colab_link": true
    },
    "kernelspec": {
      "name": "ir",
      "display_name": "R"
    },
    "language_info": {
      "name": "R"
    }
  },
  "cells": [
    {
      "cell_type": "markdown",
      "metadata": {
        "id": "view-in-github",
        "colab_type": "text"
      },
      "source": [
        "<a href=\"https://colab.research.google.com/github/delowerhossentuhin/R-Data-Science/blob/main/00_R_Data_Structure.ipynb\" target=\"_parent\"><img src=\"https://colab.research.google.com/assets/colab-badge.svg\" alt=\"Open In Colab\"/></a>"
      ]
    },
    {
      "cell_type": "markdown",
      "source": [
        "**Change Your Runtype python to R**"
      ],
      "metadata": {
        "id": "gOn8qp-kNYpv"
      }
    },
    {
      "cell_type": "markdown",
      "source": [
        "# **Vector**"
      ],
      "metadata": {
        "id": "MhRt9leYLb7W"
      }
    },
    {
      "cell_type": "code",
      "source": [
        "num_vec<-c(1,2,3,4,5,6,7)\n",
        "print(num_vec)"
      ],
      "metadata": {
        "colab": {
          "base_uri": "https://localhost:8080/"
        },
        "id": "p-U3s3bLLZhw",
        "outputId": "15ca4863-8b31-4b6e-d33a-38fc9e3d09ef"
      },
      "execution_count": 1,
      "outputs": [
        {
          "output_type": "stream",
          "name": "stdout",
          "text": [
            "[1] 1 2 3 4 5 6 7\n"
          ]
        }
      ]
    },
    {
      "cell_type": "code",
      "source": [
        "str_vec<-c(\"Frodo\",\"Sam\",\"Mary\",\"Pippins\")\n",
        "print(str_vec)"
      ],
      "metadata": {
        "colab": {
          "base_uri": "https://localhost:8080/"
        },
        "id": "vuQMLYp_Llfb",
        "outputId": "e810bdbf-4568-414f-8d94-c33294f62e88"
      },
      "execution_count": 2,
      "outputs": [
        {
          "output_type": "stream",
          "name": "stdout",
          "text": [
            "[1] \"Frodo\"   \"Sam\"     \"Mary\"    \"Pippins\"\n"
          ]
        }
      ]
    },
    {
      "cell_type": "code",
      "source": [
        "log_vec<-c(TRUE,FALSE,TRUE)\n",
        "print(log_vec)"
      ],
      "metadata": {
        "colab": {
          "base_uri": "https://localhost:8080/"
        },
        "id": "vVhh2D-tMyqq",
        "outputId": "9f52c595-3c9c-41e9-ca9f-14e447465a14"
      },
      "execution_count": 3,
      "outputs": [
        {
          "output_type": "stream",
          "name": "stdout",
          "text": [
            "[1]  TRUE FALSE  TRUE\n"
          ]
        }
      ]
    },
    {
      "cell_type": "code",
      "source": [
        "log_vec2<-c(TRUE,FALSE,1,0)\n",
        "print(log_vec2)"
      ],
      "metadata": {
        "colab": {
          "base_uri": "https://localhost:8080/"
        },
        "id": "h2f1hCDjNBfg",
        "outputId": "25d988c8-4012-452d-90fc-88c4a653b523"
      },
      "execution_count": 4,
      "outputs": [
        {
          "output_type": "stream",
          "name": "stdout",
          "text": [
            "[1] 1 0 1 0\n"
          ]
        }
      ]
    },
    {
      "cell_type": "code",
      "source": [
        "mix_vec = c(\"Hello\",0,TRUE,55.5)\n",
        "print(mix_vec)"
      ],
      "metadata": {
        "colab": {
          "base_uri": "https://localhost:8080/"
        },
        "id": "QkpNI8UvNKgO",
        "outputId": "898805f8-0cec-4366-a340-9e519e106bc8"
      },
      "execution_count": 5,
      "outputs": [
        {
          "output_type": "stream",
          "name": "stdout",
          "text": [
            "[1] \"Hello\" \"0\"     \"TRUE\"  \"55.5\" \n"
          ]
        }
      ]
    },
    {
      "cell_type": "code",
      "source": [
        "print(num_vec[1]) # R language started index is 1 not 0\n",
        "print(str_vec[3])"
      ],
      "metadata": {
        "colab": {
          "base_uri": "https://localhost:8080/"
        },
        "id": "obkIzf3mL2xF",
        "outputId": "6d553690-ba9b-4deb-f7d2-dcbb5f5a2d39"
      },
      "execution_count": 6,
      "outputs": [
        {
          "output_type": "stream",
          "name": "stdout",
          "text": [
            "[1] 1\n",
            "[1] \"Mary\"\n"
          ]
        }
      ]
    },
    {
      "cell_type": "code",
      "source": [
        "num_vec1 = c(1,2,3,4,5,6,7)\n",
        "num_vec2 =c(2,3,4,5,6,7,8,10)"
      ],
      "metadata": {
        "id": "lweu-683OUgy"
      },
      "execution_count": 7,
      "outputs": []
    },
    {
      "cell_type": "code",
      "source": [
        "# Summation\n",
        "sum_vec=num_vec1+num_vec2\n",
        "print(sum_vec)\n",
        "# num_vec2 length > num_vec1 length\n",
        "# num_vec2's 10 (last index) will be added with num_vec1's first index"
      ],
      "metadata": {
        "colab": {
          "base_uri": "https://localhost:8080/"
        },
        "id": "nMHteFtGL_2x",
        "outputId": "cb0c4d23-a8e1-4e7b-c278-7a02afeece95"
      },
      "execution_count": 8,
      "outputs": [
        {
          "output_type": "stream",
          "name": "stderr",
          "text": [
            "Warning message in num_vec1 + num_vec2:\n",
            "“longer object length is not a multiple of shorter object length”\n"
          ]
        },
        {
          "output_type": "stream",
          "name": "stdout",
          "text": [
            "[1]  3  5  7  9 11 13 15 11\n"
          ]
        }
      ]
    },
    {
      "cell_type": "code",
      "source": [
        "# Subtraction\n",
        "sub_vec = num_vec1 - num_vec2\n",
        "print(sub_vec)"
      ],
      "metadata": {
        "colab": {
          "base_uri": "https://localhost:8080/"
        },
        "id": "hz2YAFeqNvds",
        "outputId": "ac34c6bc-ba3b-458d-be7d-5f8e90458080"
      },
      "execution_count": 9,
      "outputs": [
        {
          "output_type": "stream",
          "name": "stderr",
          "text": [
            "Warning message in num_vec1 - num_vec2:\n",
            "“longer object length is not a multiple of shorter object length”\n"
          ]
        },
        {
          "output_type": "stream",
          "name": "stdout",
          "text": [
            "[1] -1 -1 -1 -1 -1 -1 -1 -9\n"
          ]
        }
      ]
    },
    {
      "cell_type": "code",
      "source": [
        "# Multiplication\n",
        "mul_vec = sum_vec * sub_vec # Element wise multiplication\n",
        "print(mul_vec)"
      ],
      "metadata": {
        "colab": {
          "base_uri": "https://localhost:8080/"
        },
        "id": "ooSjRTesOQfi",
        "outputId": "23657ef6-8ea7-4cee-8076-092599855dad"
      },
      "execution_count": 10,
      "outputs": [
        {
          "output_type": "stream",
          "name": "stdout",
          "text": [
            "[1]  -3  -5  -7  -9 -11 -13 -15 -99\n"
          ]
        }
      ]
    },
    {
      "cell_type": "code",
      "source": [
        "# Division\n",
        "div_vec = sub_vec / mul_vec\n",
        "print(div_vec)"
      ],
      "metadata": {
        "colab": {
          "base_uri": "https://localhost:8080/"
        },
        "id": "ejzTmcE-OlL3",
        "outputId": "31a315c0-b51d-4cd3-ea37-7fb151018451"
      },
      "execution_count": 11,
      "outputs": [
        {
          "output_type": "stream",
          "name": "stdout",
          "text": [
            "[1] 0.33333333 0.20000000 0.14285714 0.11111111 0.09090909 0.07692308 0.06666667\n",
            "[8] 0.09090909\n"
          ]
        }
      ]
    },
    {
      "cell_type": "code",
      "source": [
        "# appending new element in existing vector\n",
        "sub_vec <- c(sub_vec,100)\n",
        "print(sub_vec)"
      ],
      "metadata": {
        "colab": {
          "base_uri": "https://localhost:8080/"
        },
        "id": "i9GRuFxCOwYs",
        "outputId": "60c03c8d-ea17-4bec-b2df-5a3aa4c5b2b7"
      },
      "execution_count": 12,
      "outputs": [
        {
          "output_type": "stream",
          "name": "stdout",
          "text": [
            "[1]  -1  -1  -1  -1  -1  -1  -1  -9 100\n"
          ]
        }
      ]
    },
    {
      "cell_type": "code",
      "source": [
        "sub_vec[3]=100\n",
        "print(sub_vec)"
      ],
      "metadata": {
        "colab": {
          "base_uri": "https://localhost:8080/"
        },
        "id": "HAcD3TeXPKkt",
        "outputId": "ad9c0faf-ac2d-43ce-db90-3aa0b45cdcaf"
      },
      "execution_count": 13,
      "outputs": [
        {
          "output_type": "stream",
          "name": "stdout",
          "text": [
            "[1]  -1  -1 100  -1  -1  -1  -1  -9 100\n"
          ]
        }
      ]
    },
    {
      "cell_type": "code",
      "source": [
        "sub_vec <- c(num_vec1[num_vec1 %%2==0], sub_vec)\n",
        "print(sub_vec)"
      ],
      "metadata": {
        "colab": {
          "base_uri": "https://localhost:8080/"
        },
        "id": "brjOTAs5PxPK",
        "outputId": "6018b760-0cfe-40e7-9d1c-724919eb4403"
      },
      "execution_count": 14,
      "outputs": [
        {
          "output_type": "stream",
          "name": "stdout",
          "text": [
            " [1]   2   4   6  -1  -1 100  -1  -1  -1  -1  -9 100\n"
          ]
        }
      ]
    },
    {
      "cell_type": "code",
      "source": [
        "# Vector Function\n",
        "print(length(sub_vec))\n",
        "print(mean(sub_vec))\n",
        "print(sum(sub_vec))\n",
        "sub_vec <- sort(sub_vec,decreasing = TRUE)\n",
        "print(sub_vec)"
      ],
      "metadata": {
        "colab": {
          "base_uri": "https://localhost:8080/"
        },
        "id": "Svp4YMXSQKSA",
        "outputId": "9caaa7fa-ec37-483e-ba56-525afc3767df"
      },
      "execution_count": 15,
      "outputs": [
        {
          "output_type": "stream",
          "name": "stdout",
          "text": [
            "[1] 12\n",
            "[1] 16.41667\n",
            "[1] 197\n",
            " [1] 100 100   6   4   2  -1  -1  -1  -1  -1  -1  -9\n"
          ]
        }
      ]
    },
    {
      "cell_type": "code",
      "source": [
        "# Sequence and Repetition in Vectors\n",
        "seq_vec = seq(3,100,10)\n",
        "print(seq_vec)\n",
        "rep_vec <- rep(seq(0,10,2),time=3)\n",
        "print(rep_vec)"
      ],
      "metadata": {
        "colab": {
          "base_uri": "https://localhost:8080/"
        },
        "id": "Y1phLTVIRs74",
        "outputId": "f6a89c94-f83d-48e6-b5c9-4dd5e7460a32"
      },
      "execution_count": 16,
      "outputs": [
        {
          "output_type": "stream",
          "name": "stdout",
          "text": [
            " [1]  3 13 23 33 43 53 63 73 83 93\n",
            " [1]  0  2  4  6  8 10  0  2  4  6  8 10  0  2  4  6  8 10\n"
          ]
        }
      ]
    },
    {
      "cell_type": "markdown",
      "source": [
        "# **Matrix**"
      ],
      "metadata": {
        "id": "K3so1iwxSsih"
      }
    },
    {
      "cell_type": "code",
      "source": [
        "# Creating a 3x3 matrix (filled column-wise by default)\n",
        "mat1=matrix(1:9, nrow=3,ncol=3)\n",
        "print(mat1)\n",
        "cat(\"\\n\\n\")\n",
        "mat2=matrix(1:12,nrow=4,ncol=3, byrow = TRUE) # filled row wise\n",
        "print(mat2)"
      ],
      "metadata": {
        "colab": {
          "base_uri": "https://localhost:8080/"
        },
        "id": "QIEtDtZPSERo",
        "outputId": "a7cbb012-9fb3-4544-e129-a7252119e95c"
      },
      "execution_count": 17,
      "outputs": [
        {
          "output_type": "stream",
          "name": "stdout",
          "text": [
            "     [,1] [,2] [,3]\n",
            "[1,]    1    4    7\n",
            "[2,]    2    5    8\n",
            "[3,]    3    6    9\n",
            "\n",
            "\n",
            "     [,1] [,2] [,3]\n",
            "[1,]    1    2    3\n",
            "[2,]    4    5    6\n",
            "[3,]    7    8    9\n",
            "[4,]   10   11   12\n"
          ]
        }
      ]
    },
    {
      "cell_type": "code",
      "source": [
        "# Naming Rows and Columns\n",
        "rownames(mat2) = c(\"A\",\"B\",\"C\",\"D\") # length must be same as the number of rows\n",
        "print(mat2)\n",
        "cat(\"\\n\\n\")\n",
        "colnames(mat2) = c(\"X\",\"Y\",\"Z\")\n",
        "print(mat2)"
      ],
      "metadata": {
        "colab": {
          "base_uri": "https://localhost:8080/"
        },
        "id": "AcaAYb6FS2DK",
        "outputId": "100c8c1a-3c1d-4c29-bfab-0408fdd5b3c6"
      },
      "execution_count": 18,
      "outputs": [
        {
          "output_type": "stream",
          "name": "stdout",
          "text": [
            "  [,1] [,2] [,3]\n",
            "A    1    2    3\n",
            "B    4    5    6\n",
            "C    7    8    9\n",
            "D   10   11   12\n",
            "\n",
            "\n",
            "   X  Y  Z\n",
            "A  1  2  3\n",
            "B  4  5  6\n",
            "C  7  8  9\n",
            "D 10 11 12\n"
          ]
        }
      ]
    },
    {
      "cell_type": "code",
      "source": [
        "# Accessing Elements in a Matrix\n",
        "print(mat2[2,3])\n",
        "print(mat2[,2]) # 2nd entire column\n",
        "print(mat2[3,]) # 3 entire row"
      ],
      "metadata": {
        "colab": {
          "base_uri": "https://localhost:8080/"
        },
        "id": "TG6pFhtjTon7",
        "outputId": "78788e51-1206-4778-b192-7d10bfdd398f"
      },
      "execution_count": 19,
      "outputs": [
        {
          "output_type": "stream",
          "name": "stdout",
          "text": [
            "[1] 6\n",
            " A  B  C  D \n",
            " 2  5  8 11 \n",
            "X Y Z \n",
            "7 8 9 \n"
          ]
        }
      ]
    },
    {
      "cell_type": "code",
      "source": [
        "# Matrix Arithmetic\n",
        "mat1 <- matrix(1:4, nrow = 2)\n",
        "mat2 <- matrix(5:8, nrow = 2)\n",
        "\n",
        "# Matrix addition\n",
        "sum_mat <- mat1 + mat2\n",
        "print(sum_mat)\n",
        "\n",
        "# Matrix multiplication (element-wise)\n",
        "prod_mat <- mat1 * mat2\n",
        "print(prod_mat)\n",
        "\n",
        "dot_prod = mat1 %*% mat2\n",
        "print(dot_prod)"
      ],
      "metadata": {
        "colab": {
          "base_uri": "https://localhost:8080/"
        },
        "id": "umH7Nwj7Uj_i",
        "outputId": "a0eb80dd-aac8-4ce0-c2a8-280ac8938369"
      },
      "execution_count": 20,
      "outputs": [
        {
          "output_type": "stream",
          "name": "stdout",
          "text": [
            "     [,1] [,2]\n",
            "[1,]    6   10\n",
            "[2,]    8   12\n",
            "     [,1] [,2]\n",
            "[1,]    5   21\n",
            "[2,]   12   32\n",
            "     [,1] [,2]\n",
            "[1,]   23   31\n",
            "[2,]   34   46\n"
          ]
        }
      ]
    },
    {
      "cell_type": "code",
      "source": [
        "#Transpose and Inverse of a Matrix\n",
        "# Transpose of a matrix\n",
        "t_mat <- t(mat1)\n",
        "print(t_mat)\n",
        "\n",
        "# Inverse of a matrix (for square matrices)\n",
        "square_mat <- matrix(c(2, 3, 1, 4), nrow = 2)\n",
        "print(square_mat)\n",
        "inv_mat <- solve(square_mat)\n",
        "print(inv_mat)"
      ],
      "metadata": {
        "colab": {
          "base_uri": "https://localhost:8080/"
        },
        "id": "XTGaJOnFU_VS",
        "outputId": "89b92005-653a-4776-d97d-8c0d14b15bda"
      },
      "execution_count": 21,
      "outputs": [
        {
          "output_type": "stream",
          "name": "stdout",
          "text": [
            "     [,1] [,2]\n",
            "[1,]    1    2\n",
            "[2,]    3    4\n",
            "     [,1] [,2]\n",
            "[1,]    2    1\n",
            "[2,]    3    4\n",
            "     [,1] [,2]\n",
            "[1,]  0.8 -0.2\n",
            "[2,] -0.6  0.4\n"
          ]
        }
      ]
    },
    {
      "cell_type": "markdown",
      "source": [
        "### **Array**"
      ],
      "metadata": {
        "id": "ieTDxQGPextL"
      }
    },
    {
      "cell_type": "code",
      "source": [
        "arr1 <- array(1:18, dim=c(3,3,2))\n",
        "print(arr1)"
      ],
      "metadata": {
        "colab": {
          "base_uri": "https://localhost:8080/"
        },
        "id": "kF9krB_DVUJ6",
        "outputId": "ca480a4b-64eb-4861-8a98-31d702e1b229"
      },
      "execution_count": 22,
      "outputs": [
        {
          "output_type": "stream",
          "name": "stdout",
          "text": [
            ", , 1\n",
            "\n",
            "     [,1] [,2] [,3]\n",
            "[1,]    1    4    7\n",
            "[2,]    2    5    8\n",
            "[3,]    3    6    9\n",
            "\n",
            ", , 2\n",
            "\n",
            "     [,1] [,2] [,3]\n",
            "[1,]   10   13   16\n",
            "[2,]   11   14   17\n",
            "[3,]   12   15   18\n",
            "\n"
          ]
        }
      ]
    },
    {
      "cell_type": "code",
      "source": [
        "print(arr1[2,3,1])\n",
        "print(arr1[,3,2]) # 3rd column from 2nd layer\n",
        "print(arr1[2,,1]) # 2nd row from 1st layer"
      ],
      "metadata": {
        "colab": {
          "base_uri": "https://localhost:8080/"
        },
        "id": "Is-3eLcvfEx9",
        "outputId": "3ac6a293-a793-4286-8519-fc078f7a5708"
      },
      "execution_count": 23,
      "outputs": [
        {
          "output_type": "stream",
          "name": "stdout",
          "text": [
            "[1] 8\n",
            "[1] 16 17 18\n",
            "[1] 2 5 8\n"
          ]
        }
      ]
    },
    {
      "cell_type": "code",
      "source": [
        "arr2 <- array(19:36, dim = c(3, 3, 2))\n",
        "print(arr2+arr1)"
      ],
      "metadata": {
        "colab": {
          "base_uri": "https://localhost:8080/"
        },
        "id": "9J7IhP8rfh78",
        "outputId": "0fce2f32-6295-4937-e067-86653c87655e"
      },
      "execution_count": 24,
      "outputs": [
        {
          "output_type": "stream",
          "name": "stdout",
          "text": [
            ", , 1\n",
            "\n",
            "     [,1] [,2] [,3]\n",
            "[1,]   20   26   32\n",
            "[2,]   22   28   34\n",
            "[3,]   24   30   36\n",
            "\n",
            ", , 2\n",
            "\n",
            "     [,1] [,2] [,3]\n",
            "[1,]   38   44   50\n",
            "[2,]   40   46   52\n",
            "[3,]   42   48   54\n",
            "\n"
          ]
        }
      ]
    },
    {
      "cell_type": "code",
      "source": [
        "# Element-wise multiplication\n",
        "prod_arr <- arr1 * arr2\n",
        "print(prod_arr)"
      ],
      "metadata": {
        "colab": {
          "base_uri": "https://localhost:8080/"
        },
        "id": "xJDAGEtvgart",
        "outputId": "3acb9c7c-887b-41cf-e75b-7e0997d6bcb0"
      },
      "execution_count": 25,
      "outputs": [
        {
          "output_type": "stream",
          "name": "stdout",
          "text": [
            ", , 1\n",
            "\n",
            "     [,1] [,2] [,3]\n",
            "[1,]   19   88  175\n",
            "[2,]   40  115  208\n",
            "[3,]   63  144  243\n",
            "\n",
            ", , 2\n",
            "\n",
            "     [,1] [,2] [,3]\n",
            "[1,]  280  403  544\n",
            "[2,]  319  448  595\n",
            "[3,]  360  495  648\n",
            "\n"
          ]
        }
      ]
    },
    {
      "cell_type": "code",
      "source": [
        "print(sum(arr1)) # Sum of all elements in the array\n",
        "print(mean(arr1)) # Mean of all elements\n",
        "apply(arr1, MARGIN = 1, FUN = sum) # margin 1 means Row\n",
        "apply(arr1, MARGIN = 2, FUN = prod) # margin 2 means Column"
      ],
      "metadata": {
        "colab": {
          "base_uri": "https://localhost:8080/",
          "height": 86
        },
        "id": "pKxLEPGXgemX",
        "outputId": "edd3950e-0a14-460b-8a61-c51bf1367c63"
      },
      "execution_count": 26,
      "outputs": [
        {
          "output_type": "stream",
          "name": "stdout",
          "text": [
            "[1] 171\n",
            "[1] 9.5\n"
          ]
        },
        {
          "output_type": "display_data",
          "data": {
            "text/html": [
              "<style>\n",
              ".list-inline {list-style: none; margin:0; padding: 0}\n",
              ".list-inline>li {display: inline-block}\n",
              ".list-inline>li:not(:last-child)::after {content: \"\\00b7\"; padding: 0 .5ex}\n",
              "</style>\n",
              "<ol class=list-inline><li>51</li><li>57</li><li>63</li></ol>\n"
            ],
            "text/markdown": "1. 51\n2. 57\n3. 63\n\n\n",
            "text/latex": "\\begin{enumerate*}\n\\item 51\n\\item 57\n\\item 63\n\\end{enumerate*}\n",
            "text/plain": [
              "[1] 51 57 63"
            ]
          },
          "metadata": {}
        },
        {
          "output_type": "display_data",
          "data": {
            "text/html": [
              "<style>\n",
              ".list-inline {list-style: none; margin:0; padding: 0}\n",
              ".list-inline>li {display: inline-block}\n",
              ".list-inline>li:not(:last-child)::after {content: \"\\00b7\"; padding: 0 .5ex}\n",
              "</style>\n",
              "<ol class=list-inline><li>7920</li><li>327600</li><li>2467584</li></ol>\n"
            ],
            "text/markdown": "1. 7920\n2. 327600\n3. 2467584\n\n\n",
            "text/latex": "\\begin{enumerate*}\n\\item 7920\n\\item 327600\n\\item 2467584\n\\end{enumerate*}\n",
            "text/plain": [
              "[1]    7920  327600 2467584"
            ]
          },
          "metadata": {}
        }
      ]
    },
    {
      "cell_type": "markdown",
      "source": [
        "# **Data Frame**"
      ],
      "metadata": {
        "id": "OOxsD7OSi4_l"
      }
    },
    {
      "cell_type": "code",
      "source": [
        "# Creating a simple data frame\n",
        "df <- data.frame(\n",
        "  ID = c(101, 102, 103, 104),\n",
        "  Name = c(\"Alice\", \"Bob\", \"Charlie\", \"David\"), # Name is Column\n",
        "  Age = c(23, 25, 22, 24),\n",
        "  Score = c(89.5, 76.0, 91.2, 88.8), # Every Column have to be same number of elements\n",
        "  Passed = c(TRUE, FALSE, TRUE, TRUE)\n",
        ")\n",
        "print(df)"
      ],
      "metadata": {
        "colab": {
          "base_uri": "https://localhost:8080/"
        },
        "id": "dAVFEwcYg9by",
        "outputId": "d480636b-d0fb-430a-88e4-7ca099a3e2dc"
      },
      "execution_count": 27,
      "outputs": [
        {
          "output_type": "stream",
          "name": "stdout",
          "text": [
            "   ID    Name Age Score Passed\n",
            "1 101   Alice  23  89.5   TRUE\n",
            "2 102     Bob  25  76.0  FALSE\n",
            "3 103 Charlie  22  91.2   TRUE\n",
            "4 104   David  24  88.8   TRUE\n"
          ]
        }
      ]
    },
    {
      "cell_type": "code",
      "source": [
        "print(df $ Name) # Accessing a Single Column\n",
        "print(df[,2]) # Accessing a Single Column\n",
        "print(df[1,]) # Accessing a Single Row\n",
        "print(df[,\"Age\"])\n",
        "print(df[2,\"Score\"])\n",
        "print(df[1:3,\"Age\"]) # Accessing Multiple Row"
      ],
      "metadata": {
        "colab": {
          "base_uri": "https://localhost:8080/"
        },
        "id": "LLtLh7URi_QX",
        "outputId": "b18b3263-f428-4210-8907-a852ba6ab9b4"
      },
      "execution_count": 28,
      "outputs": [
        {
          "output_type": "stream",
          "name": "stdout",
          "text": [
            "[1] \"Alice\"   \"Bob\"     \"Charlie\" \"David\"  \n",
            "[1] \"Alice\"   \"Bob\"     \"Charlie\" \"David\"  \n",
            "   ID  Name Age Score Passed\n",
            "1 101 Alice  23  89.5   TRUE\n",
            "[1] 23 25 22 24\n",
            "[1] 76\n",
            "[1] 23 25 22\n"
          ]
        }
      ]
    },
    {
      "cell_type": "code",
      "source": [
        "df$Grade <- c(\"A\", \"B\", \"A+\", \"A-\") # Add a new column 'Grade'\n",
        "\n",
        "print(df)"
      ],
      "metadata": {
        "colab": {
          "base_uri": "https://localhost:8080/"
        },
        "id": "AshPwitAjcvD",
        "outputId": "e03a7f98-4672-47da-bfd0-cda2b018add2"
      },
      "execution_count": 29,
      "outputs": [
        {
          "output_type": "stream",
          "name": "stdout",
          "text": [
            "   ID    Name Age Score Passed Grade\n",
            "1 101   Alice  23  89.5   TRUE     A\n",
            "2 102     Bob  25  76.0  FALSE     B\n",
            "3 103 Charlie  22  91.2   TRUE    A+\n",
            "4 104   David  24  88.8   TRUE    A-\n"
          ]
        }
      ]
    },
    {
      "cell_type": "code",
      "source": [
        "Passed_Std <- df[df$Passed == TRUE,]\n",
        "print(Passed_Std)"
      ],
      "metadata": {
        "colab": {
          "base_uri": "https://localhost:8080/"
        },
        "id": "_2HLeuU2k8vl",
        "outputId": "a4aef77d-42df-48b3-cc9c-cc7be7c3d229"
      },
      "execution_count": 30,
      "outputs": [
        {
          "output_type": "stream",
          "name": "stdout",
          "text": [
            "   ID    Name Age Score Passed Grade\n",
            "1 101   Alice  23  89.5   TRUE     A\n",
            "3 103 Charlie  22  91.2   TRUE    A+\n",
            "4 104   David  24  88.8   TRUE    A-\n"
          ]
        }
      ]
    },
    {
      "cell_type": "code",
      "source": [
        "high <- df[df$Score > 85,]\n",
        "print(high)"
      ],
      "metadata": {
        "colab": {
          "base_uri": "https://localhost:8080/"
        },
        "id": "F1Q8_LTwlDwO",
        "outputId": "cee3d0f1-71fb-4699-e717-64a35ee2e6b7"
      },
      "execution_count": 31,
      "outputs": [
        {
          "output_type": "stream",
          "name": "stdout",
          "text": [
            "   ID    Name Age Score Passed Grade\n",
            "1 101   Alice  23  89.5   TRUE     A\n",
            "3 103 Charlie  22  91.2   TRUE    A+\n",
            "4 104   David  24  88.8   TRUE    A-\n"
          ]
        }
      ]
    },
    {
      "cell_type": "code",
      "source": [
        "df_sort <- df[order(df$Score,decreasing = TRUE),] # Sorted row based on a specific Column\n",
        "print(df_sort)"
      ],
      "metadata": {
        "colab": {
          "base_uri": "https://localhost:8080/"
        },
        "id": "7Oa5CKCCmBwr",
        "outputId": "611849d0-e336-48b3-8f7e-7df8528a8e40"
      },
      "execution_count": 32,
      "outputs": [
        {
          "output_type": "stream",
          "name": "stdout",
          "text": [
            "   ID    Name Age Score Passed Grade\n",
            "3 103 Charlie  22  91.2   TRUE    A+\n",
            "1 101   Alice  23  89.5   TRUE     A\n",
            "4 104   David  24  88.8   TRUE    A-\n",
            "2 102     Bob  25  76.0  FALSE     B\n"
          ]
        }
      ]
    },
    {
      "cell_type": "code",
      "source": [
        "df$Score[df$Name == \"Bob\"] <- 80\n",
        "print(df)"
      ],
      "metadata": {
        "colab": {
          "base_uri": "https://localhost:8080/"
        },
        "id": "lYefg3bCmTYI",
        "outputId": "b5ce4737-c40b-4344-85b7-8c1af86b6c5d"
      },
      "execution_count": 33,
      "outputs": [
        {
          "output_type": "stream",
          "name": "stdout",
          "text": [
            "   ID    Name Age Score Passed Grade\n",
            "1 101   Alice  23  89.5   TRUE     A\n",
            "2 102     Bob  25  80.0  FALSE     B\n",
            "3 103 Charlie  22  91.2   TRUE    A+\n",
            "4 104   David  24  88.8   TRUE    A-\n"
          ]
        }
      ]
    },
    {
      "cell_type": "code",
      "source": [
        "df$Passed[df$Score<95] <- FALSE\n",
        "print(df)"
      ],
      "metadata": {
        "colab": {
          "base_uri": "https://localhost:8080/"
        },
        "id": "5Rsa_5agm-xU",
        "outputId": "fd04fa38-df2b-4837-d7ab-2e8212c78c22"
      },
      "execution_count": 34,
      "outputs": [
        {
          "output_type": "stream",
          "name": "stdout",
          "text": [
            "   ID    Name Age Score Passed Grade\n",
            "1 101   Alice  23  89.5  FALSE     A\n",
            "2 102     Bob  25  80.0  FALSE     B\n",
            "3 103 Charlie  22  91.2  FALSE    A+\n",
            "4 104   David  24  88.8  FALSE    A-\n"
          ]
        }
      ]
    },
    {
      "cell_type": "code",
      "source": [
        "colnames(df) <- c(\"Student_ID\", \"Student_Name\", \"Student_Age\", \"Exam_Score\", \"Passed_Exam\", \"Final_Grade\")\n",
        "df"
      ],
      "metadata": {
        "colab": {
          "base_uri": "https://localhost:8080/",
          "height": 224
        },
        "id": "CdUATNNsnM1s",
        "outputId": "7e395af2-a8e0-4daf-cbf6-fe9dedfdf9c8"
      },
      "execution_count": 35,
      "outputs": [
        {
          "output_type": "display_data",
          "data": {
            "text/html": [
              "<table class=\"dataframe\">\n",
              "<caption>A data.frame: 4 × 6</caption>\n",
              "<thead>\n",
              "\t<tr><th scope=col>Student_ID</th><th scope=col>Student_Name</th><th scope=col>Student_Age</th><th scope=col>Exam_Score</th><th scope=col>Passed_Exam</th><th scope=col>Final_Grade</th></tr>\n",
              "\t<tr><th scope=col>&lt;dbl&gt;</th><th scope=col>&lt;chr&gt;</th><th scope=col>&lt;dbl&gt;</th><th scope=col>&lt;dbl&gt;</th><th scope=col>&lt;lgl&gt;</th><th scope=col>&lt;chr&gt;</th></tr>\n",
              "</thead>\n",
              "<tbody>\n",
              "\t<tr><td>101</td><td>Alice  </td><td>23</td><td>89.5</td><td>FALSE</td><td>A </td></tr>\n",
              "\t<tr><td>102</td><td>Bob    </td><td>25</td><td>80.0</td><td>FALSE</td><td>B </td></tr>\n",
              "\t<tr><td>103</td><td>Charlie</td><td>22</td><td>91.2</td><td>FALSE</td><td>A+</td></tr>\n",
              "\t<tr><td>104</td><td>David  </td><td>24</td><td>88.8</td><td>FALSE</td><td>A-</td></tr>\n",
              "</tbody>\n",
              "</table>\n"
            ],
            "text/markdown": "\nA data.frame: 4 × 6\n\n| Student_ID &lt;dbl&gt; | Student_Name &lt;chr&gt; | Student_Age &lt;dbl&gt; | Exam_Score &lt;dbl&gt; | Passed_Exam &lt;lgl&gt; | Final_Grade &lt;chr&gt; |\n|---|---|---|---|---|---|\n| 101 | Alice   | 23 | 89.5 | FALSE | A  |\n| 102 | Bob     | 25 | 80.0 | FALSE | B  |\n| 103 | Charlie | 22 | 91.2 | FALSE | A+ |\n| 104 | David   | 24 | 88.8 | FALSE | A- |\n\n",
            "text/latex": "A data.frame: 4 × 6\n\\begin{tabular}{llllll}\n Student\\_ID & Student\\_Name & Student\\_Age & Exam\\_Score & Passed\\_Exam & Final\\_Grade\\\\\n <dbl> & <chr> & <dbl> & <dbl> & <lgl> & <chr>\\\\\n\\hline\n\t 101 & Alice   & 23 & 89.5 & FALSE & A \\\\\n\t 102 & Bob     & 25 & 80.0 & FALSE & B \\\\\n\t 103 & Charlie & 22 & 91.2 & FALSE & A+\\\\\n\t 104 & David   & 24 & 88.8 & FALSE & A-\\\\\n\\end{tabular}\n",
            "text/plain": [
              "  Student_ID Student_Name Student_Age Exam_Score Passed_Exam Final_Grade\n",
              "1 101        Alice        23          89.5       FALSE       A          \n",
              "2 102        Bob          25          80.0       FALSE       B          \n",
              "3 103        Charlie      22          91.2       FALSE       A+         \n",
              "4 104        David        24          88.8       FALSE       A-         "
            ]
          },
          "metadata": {}
        }
      ]
    },
    {
      "cell_type": "code",
      "source": [
        "df$Final_Grade <- NULL # Removing a Column\n",
        "print(df)"
      ],
      "metadata": {
        "colab": {
          "base_uri": "https://localhost:8080/"
        },
        "id": "Z0SRwEzCn1dE",
        "outputId": "a343a8bf-753f-4161-a93f-6d4cc5b1382b"
      },
      "execution_count": 36,
      "outputs": [
        {
          "output_type": "stream",
          "name": "stdout",
          "text": [
            "  Student_ID Student_Name Student_Age Exam_Score Passed_Exam\n",
            "1        101        Alice          23       89.5       FALSE\n",
            "2        102          Bob          25       80.0       FALSE\n",
            "3        103      Charlie          22       91.2       FALSE\n",
            "4        104        David          24       88.8       FALSE\n"
          ]
        }
      ]
    },
    {
      "cell_type": "code",
      "source": [
        "df <- df[-2,] # Remove 2nd Row\n",
        "df"
      ],
      "metadata": {
        "colab": {
          "base_uri": "https://localhost:8080/",
          "height": 192
        },
        "id": "yAhVMA2SoKCu",
        "outputId": "53b1cf3d-c1a2-4c7f-8603-65f4d93c8c6d"
      },
      "execution_count": 37,
      "outputs": [
        {
          "output_type": "display_data",
          "data": {
            "text/html": [
              "<table class=\"dataframe\">\n",
              "<caption>A data.frame: 3 × 5</caption>\n",
              "<thead>\n",
              "\t<tr><th></th><th scope=col>Student_ID</th><th scope=col>Student_Name</th><th scope=col>Student_Age</th><th scope=col>Exam_Score</th><th scope=col>Passed_Exam</th></tr>\n",
              "\t<tr><th></th><th scope=col>&lt;dbl&gt;</th><th scope=col>&lt;chr&gt;</th><th scope=col>&lt;dbl&gt;</th><th scope=col>&lt;dbl&gt;</th><th scope=col>&lt;lgl&gt;</th></tr>\n",
              "</thead>\n",
              "<tbody>\n",
              "\t<tr><th scope=row>1</th><td>101</td><td>Alice  </td><td>23</td><td>89.5</td><td>FALSE</td></tr>\n",
              "\t<tr><th scope=row>3</th><td>103</td><td>Charlie</td><td>22</td><td>91.2</td><td>FALSE</td></tr>\n",
              "\t<tr><th scope=row>4</th><td>104</td><td>David  </td><td>24</td><td>88.8</td><td>FALSE</td></tr>\n",
              "</tbody>\n",
              "</table>\n"
            ],
            "text/markdown": "\nA data.frame: 3 × 5\n\n| <!--/--> | Student_ID &lt;dbl&gt; | Student_Name &lt;chr&gt; | Student_Age &lt;dbl&gt; | Exam_Score &lt;dbl&gt; | Passed_Exam &lt;lgl&gt; |\n|---|---|---|---|---|---|\n| 1 | 101 | Alice   | 23 | 89.5 | FALSE |\n| 3 | 103 | Charlie | 22 | 91.2 | FALSE |\n| 4 | 104 | David   | 24 | 88.8 | FALSE |\n\n",
            "text/latex": "A data.frame: 3 × 5\n\\begin{tabular}{r|lllll}\n  & Student\\_ID & Student\\_Name & Student\\_Age & Exam\\_Score & Passed\\_Exam\\\\\n  & <dbl> & <chr> & <dbl> & <dbl> & <lgl>\\\\\n\\hline\n\t1 & 101 & Alice   & 23 & 89.5 & FALSE\\\\\n\t3 & 103 & Charlie & 22 & 91.2 & FALSE\\\\\n\t4 & 104 & David   & 24 & 88.8 & FALSE\\\\\n\\end{tabular}\n",
            "text/plain": [
              "  Student_ID Student_Name Student_Age Exam_Score Passed_Exam\n",
              "1 101        Alice        23          89.5       FALSE      \n",
              "3 103        Charlie      22          91.2       FALSE      \n",
              "4 104        David        24          88.8       FALSE      "
            ]
          },
          "metadata": {}
        }
      ]
    },
    {
      "cell_type": "code",
      "source": [
        "summary(df) # Get summary statistics\n",
        "str(df) # Get structure of the data frame"
      ],
      "metadata": {
        "colab": {
          "base_uri": "https://localhost:8080/",
          "height": 364
        },
        "id": "QHa-dWWHoXpO",
        "outputId": "ca7863e7-46fe-4df8-cbfd-30e8e943511f"
      },
      "execution_count": 38,
      "outputs": [
        {
          "output_type": "display_data",
          "data": {
            "text/plain": [
              "   Student_ID    Student_Name        Student_Age     Exam_Score   \n",
              " Min.   :101.0   Length:3           Min.   :22.0   Min.   :88.80  \n",
              " 1st Qu.:102.0   Class :character   1st Qu.:22.5   1st Qu.:89.15  \n",
              " Median :103.0   Mode  :character   Median :23.0   Median :89.50  \n",
              " Mean   :102.7                      Mean   :23.0   Mean   :89.83  \n",
              " 3rd Qu.:103.5                      3rd Qu.:23.5   3rd Qu.:90.35  \n",
              " Max.   :104.0                      Max.   :24.0   Max.   :91.20  \n",
              " Passed_Exam    \n",
              " Mode :logical  \n",
              " FALSE:3        \n",
              "                \n",
              "                \n",
              "                \n",
              "                "
            ]
          },
          "metadata": {}
        },
        {
          "output_type": "stream",
          "name": "stdout",
          "text": [
            "'data.frame':\t3 obs. of  5 variables:\n",
            " $ Student_ID  : num  101 103 104\n",
            " $ Student_Name: chr  \"Alice\" \"Charlie\" \"David\"\n",
            " $ Student_Age : num  23 22 24\n",
            " $ Exam_Score  : num  89.5 91.2 88.8\n",
            " $ Passed_Exam : logi  FALSE FALSE FALSE\n"
          ]
        }
      ]
    },
    {
      "cell_type": "markdown",
      "source": [
        "# **Key Differences Between data.frame and list in R:**\n",
        "\n",
        "| Feature              | `list`                                                   | `data.frame`                                    |\n",
        "| -------------------- | -------------------------------------------------------- | ----------------------------------------------- |\n",
        "| **Structure**        | General-purpose container                                | Special type of list with tabular format        |\n",
        "| **Dimensions**       | 1D (a list of elements)                                  | 2D (rows × columns)                             |\n",
        "| **Element Types**    | Can store any type, each element can be different length | Each column is a vector (same length)           |\n",
        "| **Element Access**   | Access with `[[ ]]` or `$`                               | Same, but can also use `[ , ]` for rows/columns |\n",
        "| **Tabular Data Use** | Not intended for tables                                  | Designed for tabular (spreadsheet-like) data    |\n",
        "| **Column Lengths**   | Can be different                                         | All columns must have the same number of rows   |\n",
        "| **Printing**         | Prints as a nested structure                             | Prints as a neat table                          |\n"
      ],
      "metadata": {
        "id": "xyoqx_RSpNHw"
      }
    },
    {
      "cell_type": "markdown",
      "source": [
        "# **List**"
      ],
      "metadata": {
        "id": "3e1TYXOEpoj7"
      }
    },
    {
      "cell_type": "code",
      "source": [
        "my_list <- list(\n",
        "  Name = \"Alice\",\n",
        "  Age = 25,         # Creating a list with different data types\n",
        "  Scores = c(90, 85, 88),\n",
        "  Passed = TRUE\n",
        ")\n",
        "print(my_list)"
      ],
      "metadata": {
        "colab": {
          "base_uri": "https://localhost:8080/"
        },
        "id": "I5zPRr7hoiA2",
        "outputId": "eec126d4-402b-4ce3-c4af-0a47f93f86a1"
      },
      "execution_count": 39,
      "outputs": [
        {
          "output_type": "stream",
          "name": "stdout",
          "text": [
            "$Name\n",
            "[1] \"Alice\"\n",
            "\n",
            "$Age\n",
            "[1] 25\n",
            "\n",
            "$Scores\n",
            "[1] 90 85 88\n",
            "\n",
            "$Passed\n",
            "[1] TRUE\n",
            "\n"
          ]
        }
      ]
    },
    {
      "cell_type": "code",
      "source": [
        "print(my_list[1])\n",
        "print(my_list$Scores)\n",
        "print(my_list[3])\n",
        "print(my_list[[3]][2])\n",
        "print(my_list$Scores[2])"
      ],
      "metadata": {
        "colab": {
          "base_uri": "https://localhost:8080/"
        },
        "id": "AxN0bbYzpyiW",
        "outputId": "13f3a21a-aa1e-47ee-864d-2a6908d991dc"
      },
      "execution_count": 40,
      "outputs": [
        {
          "output_type": "stream",
          "name": "stdout",
          "text": [
            "$Name\n",
            "[1] \"Alice\"\n",
            "\n",
            "[1] 90 85 88\n",
            "$Scores\n",
            "[1] 90 85 88\n",
            "\n",
            "[1] 85\n",
            "[1] 85\n"
          ]
        }
      ]
    },
    {
      "cell_type": "code",
      "source": [
        "my_list$Age <- 22\n",
        "print(my_list$Age) # Change The Value\n",
        "my_list$Scores <- c(my_list$Scores,100)\n",
        "print(my_list$Scores)\n",
        "my_list$country <- \"USA\" # Add new element\n",
        "print(my_list$country)\n",
        "my_list$country <- c(my_list$country,\"UK\",\"Japan\")\n",
        "print(my_list$country)"
      ],
      "metadata": {
        "colab": {
          "base_uri": "https://localhost:8080/"
        },
        "id": "sThE3pfWqFjq",
        "outputId": "3d37e342-3f29-4132-d1b7-875f8e1e9f35"
      },
      "execution_count": 41,
      "outputs": [
        {
          "output_type": "stream",
          "name": "stdout",
          "text": [
            "[1] 22\n",
            "[1]  90  85  88 100\n",
            "[1] \"USA\"\n",
            "[1] \"USA\"   \"UK\"    \"Japan\"\n"
          ]
        }
      ]
    },
    {
      "cell_type": "code",
      "source": [
        "my_list$Passed <- NULL\n",
        "print(my_list)"
      ],
      "metadata": {
        "colab": {
          "base_uri": "https://localhost:8080/"
        },
        "id": "p7qaMWebrQsN",
        "outputId": "dcd21c89-3aad-4854-df14-d4d94a4c91a2"
      },
      "execution_count": 42,
      "outputs": [
        {
          "output_type": "stream",
          "name": "stdout",
          "text": [
            "$Name\n",
            "[1] \"Alice\"\n",
            "\n",
            "$Age\n",
            "[1] 22\n",
            "\n",
            "$Scores\n",
            "[1]  90  85  88 100\n",
            "\n",
            "$country\n",
            "[1] \"USA\"   \"UK\"    \"Japan\"\n",
            "\n"
          ]
        }
      ]
    },
    {
      "cell_type": "code",
      "source": [
        "comp_list=list(    # A list with Vector, Array, Matrix, DataFrame\n",
        "  arr1 = array(1:18, dim=c(3,3,2)),\n",
        "  number=rep(seq(1,10,3),2),\n",
        "  matr = matrix(rep(seq(1, 17, 2),2), nrow = 3),\n",
        "  dafr = data.frame(\n",
        "    Name=c(\"John\",\"Sansa\",\"Robert\",\"Joffery\",\"Theon\"),\n",
        "    Value=c(FALSE,TRUE,FALSE,FALSE,TRUE)\n",
        "  )\n",
        ")\n",
        "print(comp_list)"
      ],
      "metadata": {
        "colab": {
          "base_uri": "https://localhost:8080/"
        },
        "id": "CL2Hz4fpsSyo",
        "outputId": "55b07fa0-3e62-4a4c-e3d6-63c7edd356b9"
      },
      "execution_count": 43,
      "outputs": [
        {
          "output_type": "stream",
          "name": "stdout",
          "text": [
            "$arr1\n",
            ", , 1\n",
            "\n",
            "     [,1] [,2] [,3]\n",
            "[1,]    1    4    7\n",
            "[2,]    2    5    8\n",
            "[3,]    3    6    9\n",
            "\n",
            ", , 2\n",
            "\n",
            "     [,1] [,2] [,3]\n",
            "[1,]   10   13   16\n",
            "[2,]   11   14   17\n",
            "[3,]   12   15   18\n",
            "\n",
            "\n",
            "$number\n",
            "[1]  1  4  7 10  1  4  7 10\n",
            "\n",
            "$matr\n",
            "     [,1] [,2] [,3] [,4] [,5] [,6]\n",
            "[1,]    1    7   13    1    7   13\n",
            "[2,]    3    9   15    3    9   15\n",
            "[3,]    5   11   17    5   11   17\n",
            "\n",
            "$dafr\n",
            "     Name Value\n",
            "1    John FALSE\n",
            "2   Sansa  TRUE\n",
            "3  Robert FALSE\n",
            "4 Joffery FALSE\n",
            "5   Theon  TRUE\n",
            "\n"
          ]
        }
      ]
    },
    {
      "cell_type": "code",
      "source": [
        "print(comp_list$matr)\n",
        "print(comp_list$matr[2,3])"
      ],
      "metadata": {
        "colab": {
          "base_uri": "https://localhost:8080/"
        },
        "id": "Z6hY_hdNs0eC",
        "outputId": "7730a6de-71f8-4ba3-e2eb-166545609169"
      },
      "execution_count": 44,
      "outputs": [
        {
          "output_type": "stream",
          "name": "stdout",
          "text": [
            "     [,1] [,2] [,3] [,4] [,5] [,6]\n",
            "[1,]    1    7   13    1    7   13\n",
            "[2,]    3    9   15    3    9   15\n",
            "[3,]    5   11   17    5   11   17\n",
            "[1] 15\n"
          ]
        }
      ]
    },
    {
      "cell_type": "code",
      "source": [
        "print(comp_list$dafr$Name)"
      ],
      "metadata": {
        "colab": {
          "base_uri": "https://localhost:8080/"
        },
        "id": "zTDmxIv9vGG6",
        "outputId": "10ba1ed6-286a-471b-ccd5-e9b9f3067501"
      },
      "execution_count": 45,
      "outputs": [
        {
          "output_type": "stream",
          "name": "stdout",
          "text": [
            "[1] \"John\"    \"Sansa\"   \"Robert\"  \"Joffery\" \"Theon\"  \n"
          ]
        }
      ]
    },
    {
      "cell_type": "code",
      "source": [
        "list1 <- list(A = 1:5, B = \"Hello\")\n",
        "list2 <- list(C = c(TRUE, FALSE), D = matrix(1:4, nrow = 2))\n",
        "merged_list <- c(list1, list2) # Merge lists\n",
        "print(merged_list)"
      ],
      "metadata": {
        "colab": {
          "base_uri": "https://localhost:8080/"
        },
        "id": "Ch3GE_yVv-MM",
        "outputId": "813ab269-9ca3-4e63-f64a-c809a6bfaa48"
      },
      "execution_count": 46,
      "outputs": [
        {
          "output_type": "stream",
          "name": "stdout",
          "text": [
            "$A\n",
            "[1] 1 2 3 4 5\n",
            "\n",
            "$B\n",
            "[1] \"Hello\"\n",
            "\n",
            "$C\n",
            "[1]  TRUE FALSE\n",
            "\n",
            "$D\n",
            "     [,1] [,2]\n",
            "[1,]    1    3\n",
            "[2,]    2    4\n",
            "\n"
          ]
        }
      ]
    },
    {
      "cell_type": "code",
      "source": [],
      "metadata": {
        "id": "EE1CTdiywWFI"
      },
      "execution_count": 47,
      "outputs": []
    }
  ]
}